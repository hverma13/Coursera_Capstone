{
 "cells": [
  {
   "cell_type": "markdown",
   "metadata": {},
   "source": [
    "<H1>Capstone Project - The Battle of Neighborhoods"
   ]
  },
  {
   "cell_type": "markdown",
   "metadata": {},
   "source": [
    "<h3>Introduction"
   ]
  },
  {
   "cell_type": "markdown",
   "metadata": {},
   "source": [
    "I live in in Toronto with family. My husband has been offered his dream job a thousand miles from home.\n",
    "While my job provides me the flexibility to work from a remote location, his new job doesn't have this facility.\n",
    "So we have decided to relocate somewhere near to his work location.\n",
    "\n",
    "\n",
    "\n",
    "Along with the excitement that I have moving to a new city, I am a littile anxious and nervous as well.  \n",
    "I was born and raised in Toronto and I have never been away from my parents for a long time.\n",
    "All my friends are here and my kid is also studying at a school here. All the things that we need are easily available nearby.\n",
    "\n",
    "Both NYU and Toronto cities are very diverse and are the financial capitals of their respective countries. \n",
    "We would like compare the neighborhoods of the two cities and determine how similar or dissimilar they are before we move there.\n",
    "\n",
    "**Audience**:\n",
    "1.  Anyone who is moving to a new city they have never been to. It would help them with settling down in the new environment and exploring new life changing options.\n",
    "2.\tWhen considering business development strategies, it is often helpful to examine downtown or business district relative to those in peer cities or cities that embody similar qualities. This comparison can help you discover business development opportunities that will strengthen economic vitality in your business district.\n",
    "3.\tThis Project will help to determine what kinds of retail or service business activities are supported in like places. \n",
    "4.\tIt will also provide real-life examples of districts that have defined themselves with a clear position in their market in terms of goods and services offered and of primary consumer segments served. \n"
   ]
  },
  {
   "cell_type": "markdown",
   "metadata": {},
   "source": [
    "<h3>Objective"
   ]
  },
  {
   "cell_type": "markdown",
   "metadata": {},
   "source": [
    "We will use Foursquare Data and Machine Learning segmentation and Clustering to study area classification in details.\n",
    "\n",
    "The aim of this project is to segment areas of New York City and Toronto based on the most common places captured from Foursquare.\n",
    "Using segmentation and clustering, we hope we can determine:\n",
    "1. The similarity or dissimilarirty of both cities\n",
    "2. Classification of area located inside the city whether it is residential, tourism places, or others"
   ]
  },
  {
   "cell_type": "code",
   "execution_count": null,
   "metadata": {},
   "outputs": [],
   "source": []
  }
 ],
 "metadata": {
  "kernelspec": {
   "display_name": "Python 3",
   "language": "python",
   "name": "python3"
  },
  "language_info": {
   "codemirror_mode": {
    "name": "ipython",
    "version": 3
   },
   "file_extension": ".py",
   "mimetype": "text/x-python",
   "name": "python",
   "nbconvert_exporter": "python",
   "pygments_lexer": "ipython3",
   "version": "3.6.5"
  }
 },
 "nbformat": 4,
 "nbformat_minor": 2
}
